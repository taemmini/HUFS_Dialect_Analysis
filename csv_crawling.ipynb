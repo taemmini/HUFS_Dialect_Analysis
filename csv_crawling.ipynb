{
 "cells": [
  {
   "cell_type": "code",
   "execution_count": 1,
   "outputs": [],
   "source": [
    "# 필요한 라이브러리 가져오기\n",
    "import os\n",
    "import json\n",
    "import pandas as pd"
   ],
   "metadata": {
    "collapsed": false,
    "ExecuteTime": {
     "end_time": "2023-11-21T21:41:28.890832Z",
     "start_time": "2023-11-21T21:41:27.841227Z"
    }
   },
   "id": "cdbf8c1090964cd4"
  },
  {
   "cell_type": "markdown",
   "source": [
    "# JSON 데이터 처리"
   ],
   "metadata": {
    "collapsed": false
   },
   "id": "d08e9f2158c0e232"
  },
  {
   "cell_type": "code",
   "execution_count": 2,
   "outputs": [],
   "source": [
    "def process_tokens(json_directory):\n",
    "    data_for_tokenizer = []\n",
    "\n",
    "    for filename in os.listdir(json_directory):\n",
    "        if filename.endswith('.json'):\n",
    "            with open(os.path.join(json_directory, filename), 'r', encoding='utf-8-sig') as file:\n",
    "                json_data = json.load(file)\n",
    "\n",
    "                # tokenizer 데이터 수집\n",
    "                tokenizer_data = extract_tokenizer_data(json_data)\n",
    "                data_for_tokenizer.extend(tokenizer_data)\n",
    "\n",
    "    # tokenizer 데이터 처리\n",
    "    df_tokenizer = pd.DataFrame(data_for_tokenizer, columns=['Region', 'Eojeol', 'Standard', 'IsDialect'])\n",
    "    df_tokenizer.to_csv('tokens.csv', index=False, encoding='utf-8-sig')\n",
    "\n",
    "    return f\"Processed all token JSON files in {json_directory}\""
   ],
   "metadata": {
    "collapsed": false,
    "ExecuteTime": {
     "end_time": "2023-11-21T21:41:29.897946Z",
     "start_time": "2023-11-21T21:41:29.892714Z"
    }
   },
   "id": "c14b38fc4a6ff5f2"
  },
  {
   "cell_type": "code",
   "execution_count": 3,
   "outputs": [],
   "source": [
    "def process_sentences(directory):\n",
    "    pairs = []\n",
    "\n",
    "    for filename in os.listdir(directory):\n",
    "        if filename.endswith('.json'):\n",
    "            file_path = os.path.join(directory, filename)\n",
    "            with open(file_path, 'r', encoding='utf-8-sig') as file:\n",
    "                data = json.load(file)\n",
    "\n",
    "                # Read metadata file\n",
    "                metadata = data['metadata']\n",
    "                region = metadata['category'].split(' > ')[0][0:2]\n",
    "\n",
    "                # Iterate through the file\n",
    "                for utterance in data['utterance']:\n",
    "                    pair = {\n",
    "                        'region': region,\n",
    "                        'dialect_form': utterance['dialect_form'],\n",
    "                        'standard_form': utterance['standard_form']\n",
    "                    }\n",
    "                    pairs.append(pair)\n",
    "\n",
    "    # Convert the list of dictionaries into a CSV format\n",
    "    df = pd.DataFrame(pairs)\n",
    "    csv_filename = 'dialect_standard_pairs.csv'\n",
    "    df.to_csv(csv_filename, index=False, encoding='utf-8-sig')\n",
    "    print(f\"CSV file '{csv_filename}' has been created.\")"
   ],
   "metadata": {
    "collapsed": false,
    "ExecuteTime": {
     "end_time": "2023-11-21T21:41:30.945423Z",
     "start_time": "2023-11-21T21:41:30.937474Z"
    }
   },
   "id": "d4477e7fec5dea5"
  },
  {
   "cell_type": "code",
   "execution_count": 4,
   "outputs": [],
   "source": [
    "def extract_tokenizer_data(json_data):\n",
    "    rows = []\n",
    "    metadata_present = 'metadata' in json_data and 'category' in json_data['metadata']\n",
    "\n",
    "    for entry in json_data.values():\n",
    "        if isinstance(entry, list):\n",
    "            for item in entry:\n",
    "                for eojeol_info in item.get('eojeolList', []):\n",
    "                    eojeol = eojeol_info.get('eojeol', '')\n",
    "                    standard = eojeol_info.get('standard', '')\n",
    "                    isDialect = 1 if eojeol_info.get('isDialect', False) else 0\n",
    "                    region = ''\n",
    "                    if metadata_present:\n",
    "                        category = json_data['metadata']['category']\n",
    "                        region = category.split(' > ')[0][0:2]\n",
    "                    rows.append([region, eojeol, standard, isDialect])\n",
    "    return rows"
   ],
   "metadata": {
    "collapsed": false,
    "ExecuteTime": {
     "end_time": "2023-11-21T21:41:32.164238Z",
     "start_time": "2023-11-21T21:41:32.157483Z"
    }
   },
   "id": "de0a31dfc69321e"
  },
  {
   "cell_type": "code",
   "execution_count": 5,
   "outputs": [],
   "source": [
    "directory = '/Users/taemmini/Projects/HUFS_Dialect_Analysis/Datasets'"
   ],
   "metadata": {
    "collapsed": false,
    "ExecuteTime": {
     "end_time": "2023-11-21T21:41:36.186214Z",
     "start_time": "2023-11-21T21:41:36.177365Z"
    }
   },
   "id": "967ae0fb209ac7b"
  },
  {
   "cell_type": "code",
   "execution_count": 6,
   "outputs": [
    {
     "data": {
      "text/plain": "'Processed all token JSON files in /Users/taemmini/Projects/HUFS_Dialect_Analysis/Datasets'"
     },
     "execution_count": 6,
     "metadata": {},
     "output_type": "execute_result"
    }
   ],
   "source": [
    "process_tokens(directory)"
   ],
   "metadata": {
    "collapsed": false,
    "ExecuteTime": {
     "end_time": "2023-11-21T21:45:28.951600Z",
     "start_time": "2023-11-21T21:41:37.189836Z"
    }
   },
   "id": "e643872d3c4f0076"
  },
  {
   "cell_type": "code",
   "execution_count": 7,
   "outputs": [
    {
     "name": "stdout",
     "output_type": "stream",
     "text": [
      "CSV file 'dialect_standard_pairs.csv' has been created.\n"
     ]
    }
   ],
   "source": [
    "process_sentences(directory)"
   ],
   "metadata": {
    "collapsed": false,
    "ExecuteTime": {
     "end_time": "2023-11-21T21:47:14.631395Z",
     "start_time": "2023-11-21T21:45:33.549861Z"
    }
   },
   "id": "23bfed743364d6e5"
  },
  {
   "cell_type": "markdown",
   "source": [
    "- Preprocessing에서 전처리 예정"
   ],
   "metadata": {
    "collapsed": false
   },
   "id": "6595b7d0efa7ff94"
  },
  {
   "cell_type": "code",
   "execution_count": null,
   "outputs": [],
   "source": [],
   "metadata": {
    "collapsed": false
   },
   "id": "6f3cac52fcb2c546"
  }
 ],
 "metadata": {
  "kernelspec": {
   "display_name": "Python 3",
   "language": "python",
   "name": "python3"
  },
  "language_info": {
   "codemirror_mode": {
    "name": "ipython",
    "version": 2
   },
   "file_extension": ".py",
   "mimetype": "text/x-python",
   "name": "python",
   "nbconvert_exporter": "python",
   "pygments_lexer": "ipython2",
   "version": "2.7.6"
  }
 },
 "nbformat": 4,
 "nbformat_minor": 5
}
