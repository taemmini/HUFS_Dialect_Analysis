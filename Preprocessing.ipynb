{
 "cells": [
  {
   "cell_type": "code",
   "execution_count": 1,
   "outputs": [],
   "source": [
    "import pandas as pd"
   ],
   "metadata": {
    "collapsed": false,
    "ExecuteTime": {
     "end_time": "2023-11-21T21:48:36.268627Z",
     "start_time": "2023-11-21T21:48:35.951137Z"
    }
   },
   "id": "f7c2ecc9318fe84a"
  },
  {
   "cell_type": "markdown",
   "source": [
    "# 데이터 확인하기"
   ],
   "metadata": {
    "collapsed": false
   },
   "id": "bbc85e7dc4583468"
  },
  {
   "cell_type": "code",
   "execution_count": 2,
   "id": "initial_id",
   "metadata": {
    "collapsed": true,
    "ExecuteTime": {
     "end_time": "2023-11-21T21:48:57.324122Z",
     "start_time": "2023-11-21T21:48:37.783960Z"
    }
   },
   "outputs": [],
   "source": [
    "tokens = pd.read_csv('csv_data/tokens.csv', encoding='utf-8-sig')"
   ]
  },
  {
   "cell_type": "code",
   "execution_count": 4,
   "outputs": [],
   "source": [
    "sentences = pd.read_csv('csv_data/dialect_standard_pairs.csv', encoding='utf-8-sig', engine='python')"
   ],
   "metadata": {
    "collapsed": false,
    "ExecuteTime": {
     "end_time": "2023-11-21T21:49:42.035913Z",
     "start_time": "2023-11-21T21:49:26.983042Z"
    }
   },
   "id": "37336d6d656747d3"
  },
  {
   "cell_type": "code",
   "execution_count": 5,
   "outputs": [
    {
     "data": {
      "text/plain": "  region                 dialect_form                standard_form\n0     강원  난 니가 내 채고 친한 친구였으문 좋겠단 말이야.  난 네가 내 가장 친한 친구였으면 좋겠단 말이야.\n1     강원           내 마옴을 받아달라는 거 아니야.           내 마음을 받아달라는 거 아니야.\n2     강원        내 마옴을 니가 알아달라는 것 뿐이야.        내 마음을 네가 알아달라는 것 뿐이야.\n3     강원     내가 니 옆에 있다는 것을 기억해 주면 돼.     내가 네 옆에 있다는 것을 기억해 주면 돼.\n4     강원     내가 이딴 고백을 했다구 날 멀리 하진 마.     내가 이런 고백을 했다구 날 멀리 하진 마.",
      "text/html": "<div>\n<style scoped>\n    .dataframe tbody tr th:only-of-type {\n        vertical-align: middle;\n    }\n\n    .dataframe tbody tr th {\n        vertical-align: top;\n    }\n\n    .dataframe thead th {\n        text-align: right;\n    }\n</style>\n<table border=\"1\" class=\"dataframe\">\n  <thead>\n    <tr style=\"text-align: right;\">\n      <th></th>\n      <th>region</th>\n      <th>dialect_form</th>\n      <th>standard_form</th>\n    </tr>\n  </thead>\n  <tbody>\n    <tr>\n      <th>0</th>\n      <td>강원</td>\n      <td>난 니가 내 채고 친한 친구였으문 좋겠단 말이야.</td>\n      <td>난 네가 내 가장 친한 친구였으면 좋겠단 말이야.</td>\n    </tr>\n    <tr>\n      <th>1</th>\n      <td>강원</td>\n      <td>내 마옴을 받아달라는 거 아니야.</td>\n      <td>내 마음을 받아달라는 거 아니야.</td>\n    </tr>\n    <tr>\n      <th>2</th>\n      <td>강원</td>\n      <td>내 마옴을 니가 알아달라는 것 뿐이야.</td>\n      <td>내 마음을 네가 알아달라는 것 뿐이야.</td>\n    </tr>\n    <tr>\n      <th>3</th>\n      <td>강원</td>\n      <td>내가 니 옆에 있다는 것을 기억해 주면 돼.</td>\n      <td>내가 네 옆에 있다는 것을 기억해 주면 돼.</td>\n    </tr>\n    <tr>\n      <th>4</th>\n      <td>강원</td>\n      <td>내가 이딴 고백을 했다구 날 멀리 하진 마.</td>\n      <td>내가 이런 고백을 했다구 날 멀리 하진 마.</td>\n    </tr>\n  </tbody>\n</table>\n</div>"
     },
     "execution_count": 5,
     "metadata": {},
     "output_type": "execute_result"
    }
   ],
   "source": [
    "sentences.head()"
   ],
   "metadata": {
    "collapsed": false,
    "ExecuteTime": {
     "end_time": "2023-11-21T21:49:48.886023Z",
     "start_time": "2023-11-21T21:49:48.879545Z"
    }
   },
   "id": "a10d1aed1b27917"
  },
  {
   "cell_type": "code",
   "execution_count": 6,
   "outputs": [
    {
     "data": {
      "text/plain": "  Region Eojeol Standard  IsDialect\n0     강원      난        난          0\n1     강원     니가       네가          1\n2     강원      내        내          0\n3     강원     채고       가장          1\n4     강원     친한       친한          0",
      "text/html": "<div>\n<style scoped>\n    .dataframe tbody tr th:only-of-type {\n        vertical-align: middle;\n    }\n\n    .dataframe tbody tr th {\n        vertical-align: top;\n    }\n\n    .dataframe thead th {\n        text-align: right;\n    }\n</style>\n<table border=\"1\" class=\"dataframe\">\n  <thead>\n    <tr style=\"text-align: right;\">\n      <th></th>\n      <th>Region</th>\n      <th>Eojeol</th>\n      <th>Standard</th>\n      <th>IsDialect</th>\n    </tr>\n  </thead>\n  <tbody>\n    <tr>\n      <th>0</th>\n      <td>강원</td>\n      <td>난</td>\n      <td>난</td>\n      <td>0</td>\n    </tr>\n    <tr>\n      <th>1</th>\n      <td>강원</td>\n      <td>니가</td>\n      <td>네가</td>\n      <td>1</td>\n    </tr>\n    <tr>\n      <th>2</th>\n      <td>강원</td>\n      <td>내</td>\n      <td>내</td>\n      <td>0</td>\n    </tr>\n    <tr>\n      <th>3</th>\n      <td>강원</td>\n      <td>채고</td>\n      <td>가장</td>\n      <td>1</td>\n    </tr>\n    <tr>\n      <th>4</th>\n      <td>강원</td>\n      <td>친한</td>\n      <td>친한</td>\n      <td>0</td>\n    </tr>\n  </tbody>\n</table>\n</div>"
     },
     "execution_count": 6,
     "metadata": {},
     "output_type": "execute_result"
    }
   ],
   "source": [
    "tokens.head()"
   ],
   "metadata": {
    "collapsed": false,
    "ExecuteTime": {
     "end_time": "2023-11-21T21:49:49.720907Z",
     "start_time": "2023-11-21T21:49:49.717059Z"
    }
   },
   "id": "613adbe3f6a918bb"
  },
  {
   "cell_type": "markdown",
   "source": [
    "## 데이터 전처리"
   ],
   "metadata": {
    "collapsed": false
   },
   "id": "62b53d98248ec22d"
  },
  {
   "cell_type": "markdown",
   "source": [
    "### 1. 결측치 확인"
   ],
   "metadata": {
    "collapsed": false
   },
   "id": "b014612ac2818a0e"
  },
  {
   "cell_type": "markdown",
   "source": [
    "- 지역 데이터 양 확인"
   ],
   "metadata": {
    "collapsed": false
   },
   "id": "ca1c1042124c5f52"
  },
  {
   "cell_type": "code",
   "execution_count": 7,
   "outputs": [
    {
     "data": {
      "text/plain": "region\n제주                            3096648\n경상                            2088717\n강원                            1850036\n전라                            1654555\n전남                             582767\n충청                             328548\n 전                              17702\n솔트                              11136\n 제                              10589\n38                                822\n 솔                                478\n원시                                385\n지역                                215\n 아니면 가지 말까요?                        1\n것이 비스무리하네.                          1\n것이 비슷하다.                            1\n 간물을 먹었다오.                          1\n 바닷물을 먹었다오.                         1\n 늦게 인나쿠니 벼 알기이에 하마 발부리가났어.          1\n 늦게 일어나니 벼 알갱이에 벌써 싹이났어.            1\n 아니면 가지 말라와?                        1\nName: count, dtype: int64"
     },
     "execution_count": 7,
     "metadata": {},
     "output_type": "execute_result"
    }
   ],
   "source": [
    "sentences['region'].value_counts()"
   ],
   "metadata": {
    "collapsed": false,
    "ExecuteTime": {
     "end_time": "2023-11-21T21:49:53.075844Z",
     "start_time": "2023-11-21T21:49:53.074313Z"
    }
   },
   "id": "b93175e9f9597952"
  },
  {
   "cell_type": "code",
   "execution_count": 8,
   "outputs": [
    {
     "data": {
      "text/plain": "Region\n경상    16915800\n제주    16371447\n전라    12227348\n강원    10165285\n전남     4620291\n충청     2990109\n 전      105375\n솔트       77495\n 제       57360\n38        4168\n원시        3680\n 솔        2745\n지역        1604\n제            1\nName: count, dtype: int64"
     },
     "execution_count": 8,
     "metadata": {},
     "output_type": "execute_result"
    }
   ],
   "source": [
    "tokens['Region'].value_counts()"
   ],
   "metadata": {
    "collapsed": false,
    "ExecuteTime": {
     "end_time": "2023-11-21T21:50:00.896261Z",
     "start_time": "2023-11-21T21:50:00.894701Z"
    }
   },
   "id": "c63d0c3882e79abd"
  },
  {
   "cell_type": "markdown",
   "source": [
    "- 전남, 전은 전라로, 제는 제주로 통합"
   ],
   "metadata": {
    "collapsed": false
   },
   "id": "c74120b742444d98"
  },
  {
   "cell_type": "code",
   "execution_count": 9,
   "outputs": [],
   "source": [
    "tokens_revised = tokens.replace({'Region': {'전남': '전라', ' 전': '전라', ' 제': '제주'}})"
   ],
   "metadata": {
    "collapsed": false,
    "ExecuteTime": {
     "end_time": "2023-11-21T21:50:10.444432Z",
     "start_time": "2023-11-21T21:50:03.711662Z"
    }
   },
   "id": "2837ed6e73b295cb"
  },
  {
   "cell_type": "code",
   "execution_count": 10,
   "outputs": [],
   "source": [
    "is_province = tokens_revised['Region'].str.contains('제주|전라|경상|충청|강원')\n",
    "\n",
    "tokens_revised = tokens_revised[is_province]"
   ],
   "metadata": {
    "collapsed": false,
    "ExecuteTime": {
     "end_time": "2023-11-21T21:50:23.451866Z",
     "start_time": "2023-11-21T21:50:12.239314Z"
    }
   },
   "id": "2fc89e993822d73d"
  },
  {
   "cell_type": "code",
   "execution_count": 11,
   "outputs": [
    {
     "data": {
      "text/plain": "Region\n전라    16953014\n경상    16915800\n제주    16428807\n강원    10165285\n충청     2990109\nName: count, dtype: int64"
     },
     "execution_count": 11,
     "metadata": {},
     "output_type": "execute_result"
    }
   ],
   "source": [
    "tokens_revised['Region'].value_counts()"
   ],
   "metadata": {
    "collapsed": false,
    "ExecuteTime": {
     "end_time": "2023-11-21T21:50:26.137244Z",
     "start_time": "2023-11-21T21:50:26.135526Z"
    }
   },
   "id": "5201b9d8cd24118f"
  },
  {
   "cell_type": "markdown",
   "source": [
    "- sentence도 동일 작업 실시"
   ],
   "metadata": {
    "collapsed": false
   },
   "id": "e51f6b2434fa42e8"
  },
  {
   "cell_type": "code",
   "execution_count": 12,
   "outputs": [],
   "source": [
    "sentences_revised = sentences.replace({'region': {'전남': '전라', ' 전': '전라', ' 제': '제주'}})"
   ],
   "metadata": {
    "collapsed": false,
    "ExecuteTime": {
     "end_time": "2023-11-21T21:50:32.404438Z",
     "start_time": "2023-11-21T21:50:31.065945Z"
    }
   },
   "id": "f3e4f6b001d252a1"
  },
  {
   "cell_type": "code",
   "execution_count": 13,
   "outputs": [],
   "source": [
    "is_province_sentence = sentences_revised['region'].str.contains('제주|전라|경상|강원|충청')"
   ],
   "metadata": {
    "collapsed": false,
    "ExecuteTime": {
     "end_time": "2023-11-21T21:50:34.472164Z",
     "start_time": "2023-11-21T21:50:33.028881Z"
    }
   },
   "id": "70f8caad0a75f855"
  },
  {
   "cell_type": "code",
   "execution_count": 14,
   "outputs": [],
   "source": [
    "sentences_revised = sentences_revised[is_province_sentence]"
   ],
   "metadata": {
    "collapsed": false,
    "ExecuteTime": {
     "end_time": "2023-11-21T21:50:35.254544Z",
     "start_time": "2023-11-21T21:50:34.917374Z"
    }
   },
   "id": "6cf831be1bc31082"
  },
  {
   "cell_type": "code",
   "execution_count": 15,
   "outputs": [
    {
     "data": {
      "text/plain": "region\n제주    3107237\n전라    2255024\n경상    2088717\n강원    1850036\n충청     328548\nName: count, dtype: int64"
     },
     "execution_count": 15,
     "metadata": {},
     "output_type": "execute_result"
    }
   ],
   "source": [
    "sentences_revised['region'].value_counts()"
   ],
   "metadata": {
    "collapsed": false,
    "ExecuteTime": {
     "end_time": "2023-11-21T21:50:35.940977Z",
     "start_time": "2023-11-21T21:50:35.939427Z"
    }
   },
   "id": "6f577a8ea6b4e5b4"
  },
  {
   "cell_type": "markdown",
   "source": [
    "### 2. 원핫인코딩"
   ],
   "metadata": {
    "collapsed": false
   },
   "id": "5a65c78d6c80859a"
  },
  {
   "cell_type": "code",
   "execution_count": 16,
   "outputs": [
    {
     "data": {
      "text/plain": "  Eojeol Standard  IsDialect  Region_강원  Region_경상  Region_전라  Region_제주  \\\n0      난        난          0       True      False      False      False   \n1     니가       네가          1       True      False      False      False   \n2      내        내          0       True      False      False      False   \n3     채고       가장          1       True      False      False      False   \n4     친한       친한          0       True      False      False      False   \n\n   Region_충청  \n0      False  \n1      False  \n2      False  \n3      False  \n4      False  ",
      "text/html": "<div>\n<style scoped>\n    .dataframe tbody tr th:only-of-type {\n        vertical-align: middle;\n    }\n\n    .dataframe tbody tr th {\n        vertical-align: top;\n    }\n\n    .dataframe thead th {\n        text-align: right;\n    }\n</style>\n<table border=\"1\" class=\"dataframe\">\n  <thead>\n    <tr style=\"text-align: right;\">\n      <th></th>\n      <th>Eojeol</th>\n      <th>Standard</th>\n      <th>IsDialect</th>\n      <th>Region_강원</th>\n      <th>Region_경상</th>\n      <th>Region_전라</th>\n      <th>Region_제주</th>\n      <th>Region_충청</th>\n    </tr>\n  </thead>\n  <tbody>\n    <tr>\n      <th>0</th>\n      <td>난</td>\n      <td>난</td>\n      <td>0</td>\n      <td>True</td>\n      <td>False</td>\n      <td>False</td>\n      <td>False</td>\n      <td>False</td>\n    </tr>\n    <tr>\n      <th>1</th>\n      <td>니가</td>\n      <td>네가</td>\n      <td>1</td>\n      <td>True</td>\n      <td>False</td>\n      <td>False</td>\n      <td>False</td>\n      <td>False</td>\n    </tr>\n    <tr>\n      <th>2</th>\n      <td>내</td>\n      <td>내</td>\n      <td>0</td>\n      <td>True</td>\n      <td>False</td>\n      <td>False</td>\n      <td>False</td>\n      <td>False</td>\n    </tr>\n    <tr>\n      <th>3</th>\n      <td>채고</td>\n      <td>가장</td>\n      <td>1</td>\n      <td>True</td>\n      <td>False</td>\n      <td>False</td>\n      <td>False</td>\n      <td>False</td>\n    </tr>\n    <tr>\n      <th>4</th>\n      <td>친한</td>\n      <td>친한</td>\n      <td>0</td>\n      <td>True</td>\n      <td>False</td>\n      <td>False</td>\n      <td>False</td>\n      <td>False</td>\n    </tr>\n  </tbody>\n</table>\n</div>"
     },
     "execution_count": 16,
     "metadata": {},
     "output_type": "execute_result"
    }
   ],
   "source": [
    "token_region_dummies = pd.get_dummies(tokens_revised, columns=['Region'])\n",
    "\n",
    "token_region_dummies.head()"
   ],
   "metadata": {
    "collapsed": false,
    "ExecuteTime": {
     "end_time": "2023-11-21T21:50:42.992953Z",
     "start_time": "2023-11-21T21:50:38.042406Z"
    }
   },
   "id": "1a25676d0328663f"
  },
  {
   "cell_type": "code",
   "execution_count": 17,
   "outputs": [
    {
     "data": {
      "text/plain": "                  dialect_form                standard_form  region_강원  \\\n0  난 니가 내 채고 친한 친구였으문 좋겠단 말이야.  난 네가 내 가장 친한 친구였으면 좋겠단 말이야.       True   \n1           내 마옴을 받아달라는 거 아니야.           내 마음을 받아달라는 거 아니야.       True   \n2        내 마옴을 니가 알아달라는 것 뿐이야.        내 마음을 네가 알아달라는 것 뿐이야.       True   \n3     내가 니 옆에 있다는 것을 기억해 주면 돼.     내가 네 옆에 있다는 것을 기억해 주면 돼.       True   \n4     내가 이딴 고백을 했다구 날 멀리 하진 마.     내가 이런 고백을 했다구 날 멀리 하진 마.       True   \n\n   region_경상  region_전라  region_제주  region_충청  \n0      False      False      False      False  \n1      False      False      False      False  \n2      False      False      False      False  \n3      False      False      False      False  \n4      False      False      False      False  ",
      "text/html": "<div>\n<style scoped>\n    .dataframe tbody tr th:only-of-type {\n        vertical-align: middle;\n    }\n\n    .dataframe tbody tr th {\n        vertical-align: top;\n    }\n\n    .dataframe thead th {\n        text-align: right;\n    }\n</style>\n<table border=\"1\" class=\"dataframe\">\n  <thead>\n    <tr style=\"text-align: right;\">\n      <th></th>\n      <th>dialect_form</th>\n      <th>standard_form</th>\n      <th>region_강원</th>\n      <th>region_경상</th>\n      <th>region_전라</th>\n      <th>region_제주</th>\n      <th>region_충청</th>\n    </tr>\n  </thead>\n  <tbody>\n    <tr>\n      <th>0</th>\n      <td>난 니가 내 채고 친한 친구였으문 좋겠단 말이야.</td>\n      <td>난 네가 내 가장 친한 친구였으면 좋겠단 말이야.</td>\n      <td>True</td>\n      <td>False</td>\n      <td>False</td>\n      <td>False</td>\n      <td>False</td>\n    </tr>\n    <tr>\n      <th>1</th>\n      <td>내 마옴을 받아달라는 거 아니야.</td>\n      <td>내 마음을 받아달라는 거 아니야.</td>\n      <td>True</td>\n      <td>False</td>\n      <td>False</td>\n      <td>False</td>\n      <td>False</td>\n    </tr>\n    <tr>\n      <th>2</th>\n      <td>내 마옴을 니가 알아달라는 것 뿐이야.</td>\n      <td>내 마음을 네가 알아달라는 것 뿐이야.</td>\n      <td>True</td>\n      <td>False</td>\n      <td>False</td>\n      <td>False</td>\n      <td>False</td>\n    </tr>\n    <tr>\n      <th>3</th>\n      <td>내가 니 옆에 있다는 것을 기억해 주면 돼.</td>\n      <td>내가 네 옆에 있다는 것을 기억해 주면 돼.</td>\n      <td>True</td>\n      <td>False</td>\n      <td>False</td>\n      <td>False</td>\n      <td>False</td>\n    </tr>\n    <tr>\n      <th>4</th>\n      <td>내가 이딴 고백을 했다구 날 멀리 하진 마.</td>\n      <td>내가 이런 고백을 했다구 날 멀리 하진 마.</td>\n      <td>True</td>\n      <td>False</td>\n      <td>False</td>\n      <td>False</td>\n      <td>False</td>\n    </tr>\n  </tbody>\n</table>\n</div>"
     },
     "execution_count": 17,
     "metadata": {},
     "output_type": "execute_result"
    }
   ],
   "source": [
    "sentences_region_dummies = pd.get_dummies(sentences_revised, columns=['region'])\n",
    "\n",
    "sentences_region_dummies.head()"
   ],
   "metadata": {
    "collapsed": false,
    "ExecuteTime": {
     "end_time": "2023-11-21T21:50:45.163319Z",
     "start_time": "2023-11-21T21:50:44.077424Z"
    }
   },
   "id": "d2c0ff3ea56430c8"
  },
  {
   "cell_type": "code",
   "execution_count": 18,
   "outputs": [],
   "source": [
    "# 저장\n",
    "token_region_dummies.to_csv('csv_data/tokens_region_dummies.csv', index=False, encoding='utf-8-sig')\n",
    "sentences_region_dummies.to_csv('csv_data/sentences_region_dummies.csv', index=False, encoding='utf-8-sig')"
   ],
   "metadata": {
    "collapsed": false,
    "ExecuteTime": {
     "end_time": "2023-11-21T21:51:55.336301Z",
     "start_time": "2023-11-21T21:50:47.896782Z"
    }
   },
   "id": "314def40032d8197"
  }
 ],
 "metadata": {
  "kernelspec": {
   "display_name": "Python 3",
   "language": "python",
   "name": "python3"
  },
  "language_info": {
   "codemirror_mode": {
    "name": "ipython",
    "version": 2
   },
   "file_extension": ".py",
   "mimetype": "text/x-python",
   "name": "python",
   "nbconvert_exporter": "python",
   "pygments_lexer": "ipython2",
   "version": "2.7.6"
  }
 },
 "nbformat": 4,
 "nbformat_minor": 5
}
